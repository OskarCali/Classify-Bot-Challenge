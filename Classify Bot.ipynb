{
 "cells": [
  {
   "cell_type": "code",
   "execution_count": 1,
   "metadata": {},
   "outputs": [
    {
     "name": "stdout",
     "output_type": "stream",
     "text": [
      "Collecting python-telegram-bot==5.3.0\n",
      "  Using cached https://files.pythonhosted.org/packages/d5/a3/a0957391238318a331bb91cfaba913c43797982a9440f1318e03ab9fad69/python_telegram_bot-5.3.0-py2.py3-none-any.whl\n",
      "Collecting future>=0.15.2 (from python-telegram-bot==5.3.0)\n",
      "  Downloading https://files.pythonhosted.org/packages/45/0b/38b06fd9b92dc2b68d58b75f900e97884c45bedd2ff83203d933cf5851c9/future-0.18.2.tar.gz (829kB)\n",
      "Collecting urllib3>=1.10 (from python-telegram-bot==5.3.0)\n",
      "  Downloading https://files.pythonhosted.org/packages/e8/74/6e4f91745020f967d09332bb2b8b9b10090957334692eb88ea4afe91b77f/urllib3-1.25.8-py2.py3-none-any.whl (125kB)\n",
      "Collecting certifi (from python-telegram-bot==5.3.0)\n",
      "  Downloading https://files.pythonhosted.org/packages/b9/63/df50cac98ea0d5b006c55a399c3bf1db9da7b5a24de7890bc9cfd5dd9e99/certifi-2019.11.28-py2.py3-none-any.whl (156kB)\n",
      "Building wheels for collected packages: future\n",
      "  Building wheel for future (setup.py): started\n",
      "  Building wheel for future (setup.py): finished with status 'done'\n",
      "  Created wheel for future: filename=future-0.18.2-cp37-none-any.whl size=491062 sha256=ca720646a99b11da1f835dd7b7c490fc8139753a956d0f0f01d45ed78a48975c\n",
      "  Stored in directory: C:\\Users\\Oscar\\AppData\\Local\\pip\\Cache\\wheels\\8b\\99\\a0\\81daf51dcd359a9377b110a8a886b3895921802d2fc1b2397e\n",
      "Successfully built future\n",
      "Installing collected packages: future, urllib3, certifi, python-telegram-bot\n",
      "Successfully installed certifi-2019.11.28 future-0.18.2 python-telegram-bot-5.3.0 urllib3-1.25.8\n",
      "Note: you may need to restart the kernel to use updated packages.\n"
     ]
    },
    {
     "name": "stderr",
     "output_type": "stream",
     "text": [
      "WARNING: You are using pip version 19.2.3, however version 20.0.2 is available.\n",
      "You should consider upgrading via the 'python -m pip install --upgrade pip' command.\n"
     ]
    }
   ],
   "source": [
    "pip install python-telegram-bot==5.3.0"
   ]
  },
  {
   "cell_type": "code",
   "execution_count": 2,
   "metadata": {},
   "outputs": [
    {
     "name": "stdout",
     "output_type": "stream",
     "text": [
      "Librerías importadas correctamente\n"
     ]
    }
   ],
   "source": [
    "import tensorflow as tf\n",
    "import sys\n",
    "import os\n",
    "from telegram.ext import Updater, CommandHandler, MessageHandler, Filters\n",
    "import logging\n",
    "\n",
    "print(\"Librerías importadas correctamente\")"
   ]
  },
  {
   "cell_type": "code",
   "execution_count": 3,
   "metadata": {},
   "outputs": [
    {
     "name": "stdout",
     "output_type": "stream",
     "text": [
      "Método para clasificar creado correctamente\n"
     ]
    }
   ],
   "source": [
    "def classify(image_path):\n",
    "    # Read the image_data\n",
    "    image_data = tf.io.gfile.GFile(image_path, 'rb').read()\n",
    "\n",
    "    # Loads label file, strips off carriage return\n",
    "    label_lines = [line.rstrip() for line in tf.io.gfile.GFile(\"tf_files/retrained_labels.txt\")]\n",
    "\n",
    "    # Unpersists graph from file\n",
    "    with tf.io.gfile.GFile(\"tf_files/retrained_graph.pb\", 'rb') as f:\n",
    "        graph_def = tf.compat.v1.GraphDef()\n",
    "        graph_def.ParseFromString(f.read())\n",
    "        _ = tf.import_graph_def(graph_def, name='')\n",
    "\n",
    "    with tf.compat.v1.Session() as sess:\n",
    "        # Feed the image_data as input to the graph and get first prediction\n",
    "        softmax_tensor = sess.graph.get_tensor_by_name('final_result:0')\n",
    "        \n",
    "        predictions = sess.run(softmax_tensor, \\\n",
    "                {'DecodeJpeg/contents:0': image_data})\n",
    "        \n",
    "        # Sort to show labels of first prediction in order of confidence\n",
    "        top_k = predictions[0].argsort()[-len(predictions[0]):][::-1]\n",
    "        \n",
    "        result = None\n",
    "        for node_id in top_k:\n",
    "            human_string = label_lines[node_id]\n",
    "            accuracy = predictions[0][node_id]\n",
    "            print('%s (score = %.5f)' % (human_string, accuracy))\n",
    "            if accuracy >= 0.9:\n",
    "                result = human_string\n",
    "    return result\n",
    "\n",
    "print(\"Método para clasificar creado correctamente\")"
   ]
  },
  {
   "cell_type": "code",
   "execution_count": 6,
   "metadata": {},
   "outputs": [
    {
     "name": "stdout",
     "output_type": "stream",
     "text": [
      "token registrado\n"
     ]
    }
   ],
   "source": [
    "# ClassifyImagesBot\n",
    "token = '958333754:AAH2mr0sDRlmG32ZO229D0iw2MKiMuSamhU'\n",
    "\n",
    "print(\"token registrado\")"
   ]
  },
  {
   "cell_type": "code",
   "execution_count": 4,
   "metadata": {},
   "outputs": [
    {
     "name": "stdout",
     "output_type": "stream",
     "text": [
      "Bot configurado correctamente\n"
     ]
    }
   ],
   "source": [
    "# Enable logging\n",
    "try:\n",
    "    logging.basicConfig(\n",
    "        format='%(asctime)s - %(name)s - %(levelname)s - %(message)s', level=logging.INFO)\n",
    "    logger = logging.getLogger(__name__)\n",
    "except Exception as e:\n",
    "    print(\"Error logging {}\".format(e.args))\n",
    "\n",
    "def start(bot, update):\n",
    "    try:\n",
    "        username = update.message.from_user.username\n",
    "        message = \"Hello \" + username\n",
    "        update.message.reply_text(message)\n",
    "    except Exception as e:\n",
    "        print(\"Error start {}\".format(e.args))\n",
    "\n",
    "\n",
    "def help(bot, update):\n",
    "    try:\n",
    "        username = update.message.from_user.username\n",
    "        update.message.reply_text('Hello {}, please send a image for classify'.format(username))\n",
    "    except Exception as e:\n",
    "        print(\"Error help {}\".format(e.args))\n",
    "\n",
    "def analize(bot, update):\n",
    "    try:\n",
    "        message = \"Receiving image...\"\n",
    "        update.message.reply_text(message)\n",
    "        print(message)\n",
    "        \n",
    "        photo_file = bot.getFile(update.message.photo[-1].file_id)\n",
    "        id_user = update.message.from_user.id\n",
    "        id_file = photo_file.file_id\n",
    "        id_analisis = str(id_user) + \"-\" + str(id_file)\n",
    "        #print(\"Hasta aqui funciona\")\n",
    "        filename = os.path.join('downloads/', '{}.jpg'.format(id_analisis))\n",
    "        #print(\"Hasta aqui funciona x2\")\n",
    "        photo_file.download(filename)\n",
    "        #print(\"Hasta aqui funciona x3\")\n",
    "        message = \"Image received, analyzing, please wait a few seconds\"\n",
    "        update.message.reply_text(message)\n",
    "        print(message)\n",
    "        \n",
    "        result = classify(filename)\n",
    "        print(result)\n",
    "        update.message.reply_text(result)\n",
    "        print(\"Waiting image..\")\n",
    "    except Exception as e:\n",
    "        print(\"Error analize {}\".format(e.args))\n",
    "\n",
    "\n",
    "def echo(bot, update):\n",
    "    try:\n",
    "        update.message.reply_text(update.message.text)\n",
    "        print(\"Receiving text...\")\n",
    "        print(\"Waiting for another test...\")\n",
    "        print(update.message.from_user)\n",
    "    except Exception as e:\n",
    "        print(\"Error echo {}\".format(e.args))\n",
    "\n",
    "def error(bot, update, error):\n",
    "    try:\n",
    "        logger.warn('Update \"%s\" caused error \"%s\"' % (update, error))\n",
    "    except Exception as e:\n",
    "        print(\"Error error {}\".format(e.args))\n",
    "\n",
    "def main():\n",
    "    try:\n",
    "        print('ClassifyImagesBot init token')\n",
    "\n",
    "        updater = Updater(token)\n",
    "        # Get the dispatcher to register handlers\n",
    "        dp = updater.dispatcher\n",
    "\n",
    "        print('ClassifyImagesBot init dispatcher')\n",
    "\n",
    "\n",
    "        # on different commands - answer in Telegram\n",
    "        dp.add_handler(CommandHandler(\"start\", start))\n",
    "        dp.add_handler(CommandHandler(\"help\", help))\n",
    "\n",
    "        # on noncommand detect the document type on Telegram\n",
    "        dp.add_handler(MessageHandler(Filters.text, echo))\n",
    "        dp.add_handler(MessageHandler(Filters.photo, analize))\n",
    "\n",
    "        # log all errors\n",
    "        dp.add_error_handler(error)\n",
    "\n",
    "        # Start the Bot\n",
    "        updater.start_polling()\n",
    "        print('ClassifyImagesBot ready')\n",
    "        updater.idle()\n",
    "    except Exception as e:\n",
    "        print(\"Error main {}\".format(e.message))\n",
    "\n",
    "print(\"Bot configurado correctamente\")"
   ]
  },
  {
   "cell_type": "code",
   "execution_count": 7,
   "metadata": {},
   "outputs": [
    {
     "name": "stdout",
     "output_type": "stream",
     "text": [
      "ClassifyImagesBot init token\n",
      "ClassifyImagesBot init dispatcher\n",
      "ClassifyImagesBot ready\n",
      "Receiving image...\n",
      "Image received, analyzing, please wait a few seconds\n",
      "lion (score = 0.71655)\n",
      "mouse (score = 0.18850)\n",
      "keyboard (score = 0.09495)\n",
      "None\n",
      "Waiting image..\n",
      "Receiving image...\n",
      "Image received, analyzing, please wait a few seconds\n",
      "lion (score = 0.62390)\n",
      "mouse (score = 0.22410)\n",
      "keyboard (score = 0.15200)\n",
      "None\n",
      "Waiting image..\n",
      "Receiving image...\n",
      "Image received, analyzing, please wait a few seconds\n",
      "lion (score = 0.99664)\n",
      "keyboard (score = 0.00182)\n",
      "mouse (score = 0.00155)\n",
      "lion\n",
      "Waiting image..\n"
     ]
    }
   ],
   "source": [
    "if __name__ == '__main__':\n",
    "    try:\n",
    "        main()\n",
    "    except Exception as e:\n",
    "        print(\"Error name: {}\".format(e.args))"
   ]
  },
  {
   "cell_type": "code",
   "execution_count": null,
   "metadata": {},
   "outputs": [],
   "source": []
  }
 ],
 "metadata": {
  "kernelspec": {
   "display_name": "classify_bot",
   "language": "python",
   "name": "classify_bot"
  },
  "language_info": {
   "codemirror_mode": {
    "name": "ipython",
    "version": 3
   },
   "file_extension": ".py",
   "mimetype": "text/x-python",
   "name": "python",
   "nbconvert_exporter": "python",
   "pygments_lexer": "ipython3",
   "version": "3.7.6"
  }
 },
 "nbformat": 4,
 "nbformat_minor": 2
}
